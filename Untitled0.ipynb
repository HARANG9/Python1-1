{
  "nbformat": 4,
  "nbformat_minor": 0,
  "metadata": {
    "colab": {
      "provenance": [],
      "authorship_tag": "ABX9TyNgBC55rDWB0lnYiLJ1xhix",
      "include_colab_link": true
    },
    "kernelspec": {
      "name": "python3",
      "display_name": "Python 3"
    },
    "language_info": {
      "name": "python"
    }
  },
  "cells": [
    {
      "cell_type": "markdown",
      "metadata": {
        "id": "view-in-github",
        "colab_type": "text"
      },
      "source": [
        "<a href=\"https://colab.research.google.com/github/HARANG9/Python1-1/blob/main/Untitled0.ipynb\" target=\"_parent\"><img src=\"https://colab.research.google.com/assets/colab-badge.svg\" alt=\"Open In Colab\"/></a>"
      ]
    },
    {
      "cell_type": "code",
      "execution_count": null,
      "metadata": {
        "id": "CqFMKY0hz_vz"
      },
      "outputs": [],
      "source": [
        "!pip install qrcode\n",
        "\n"
      ]
    },
    {
      "cell_type": "code",
      "source": [
        "import qrcode\n",
        "qr_data = 'www.naver.com'\n",
        "qr_image = qrcode.make(qr_data)\n",
        "\n",
        "qr_image.save(qr_data + '.png')"
      ],
      "metadata": {
        "id": "CC56F1w20p7t"
      },
      "execution_count": null,
      "outputs": []
    },
    {
      "cell_type": "code",
      "source": [
        "import qrcode\n",
        "\n",
        "with open('site_list.txt','rt',encoding='UTF-8') as f:\n",
        "  read_lines = f.readlines()\n",
        "\n",
        "  for line in read_lines:\n",
        "    line = line.strip()\n",
        "    print(line)\n",
        "\n",
        "    qr_data = line\n",
        "    qr_image = qrcode.make(qr_data)\n",
        "\n",
        "    qr_image.save(qr_data + '.png')"
      ],
      "metadata": {
        "colab": {
          "base_uri": "https://localhost:8080/"
        },
        "id": "TMdFGHRX18Jb",
        "outputId": "2571f71b-f577-41f8-ea16-05805d9b9baa"
      },
      "execution_count": null,
      "outputs": [
        {
          "output_type": "stream",
          "name": "stdout",
          "text": [
            "www.naver.com\n",
            "www.google.com.\n",
            "www.daum.net\n",
            "www.microsoft.com\n",
            "www.apple.com\n"
          ]
        }
      ]
    },
    {
      "cell_type": "code",
      "source": [
        "!pip install currencyconverter"
      ],
      "metadata": {
        "colab": {
          "base_uri": "https://localhost:8080/"
        },
        "id": "i7TXECcl8cPv",
        "outputId": "5780d0cf-d729-49af-973e-d1fe03b923fb"
      },
      "execution_count": null,
      "outputs": [
        {
          "output_type": "stream",
          "name": "stdout",
          "text": [
            "Looking in indexes: https://pypi.org/simple, https://us-python.pkg.dev/colab-wheels/public/simple/\n",
            "Collecting currencyconverter\n",
            "  Downloading CurrencyConverter-0.17.2-py3-none-any.whl (557 kB)\n",
            "\u001b[K     |████████████████████████████████| 557 kB 5.0 MB/s \n",
            "\u001b[?25hInstalling collected packages: currencyconverter\n",
            "Successfully installed currencyconverter-0.17.2\n"
          ]
        }
      ]
    },
    {
      "cell_type": "code",
      "source": [
        "from currency_converter import CurrencyConverter"
      ],
      "metadata": {
        "id": "99AimTcf6YkO"
      },
      "execution_count": null,
      "outputs": []
    },
    {
      "cell_type": "code",
      "source": [
        "cc = CurrencyConverter('http://www.ecb.europa.eu/stats/eurofxref/eurofxref.zip')"
      ],
      "metadata": {
        "id": "RWQT0_iP90pG"
      },
      "execution_count": null,
      "outputs": []
    },
    {
      "cell_type": "code",
      "source": [
        "print(cc.convert(1,'USD','KRW'))"
      ],
      "metadata": {
        "id": "GDiWfPTH98Ht",
        "colab": {
          "base_uri": "https://localhost:8080/"
        },
        "outputId": "daceba0e-7efc-4788-d61b-274ed547fac1"
      },
      "execution_count": null,
      "outputs": [
        {
          "output_type": "stream",
          "name": "stdout",
          "text": [
            "1430.0338843823802\n"
          ]
        }
      ]
    },
    {
      "cell_type": "code",
      "source": [
        "!pip install Beautifulsoup4"
      ],
      "metadata": {
        "colab": {
          "base_uri": "https://localhost:8080/"
        },
        "id": "1nF6fcXp_Xbk",
        "outputId": "2c053bd7-df39-4fa5-db34-8ac7fbd6eca9"
      },
      "execution_count": null,
      "outputs": [
        {
          "output_type": "stream",
          "name": "stdout",
          "text": [
            "Looking in indexes: https://pypi.org/simple, https://us-python.pkg.dev/colab-wheels/public/simple/\n",
            "Requirement already satisfied: Beautifulsoup4 in /usr/local/lib/python3.7/dist-packages (4.6.3)\n"
          ]
        }
      ]
    },
    {
      "cell_type": "code",
      "source": [
        "import requests \n",
        "\n",
        "from bs4 import BeautifulSoup \n",
        "\n",
        "def get_exchange_rate(target1, target2): \n",
        "\n",
        "    headers = { \n",
        "\n",
        "        'User-Agent': 'Mozilla/5.0', \n",
        "\n",
        "        'Content-Type': 'text/html; charset=utf-8' \n",
        "\n",
        "    } \n",
        "\n",
        "    response = requests.get(\"https://kr.investing.com/currencies/{}-{}\".format(target1, target2), headers=headers) \n",
        "\n",
        "    content = BeautifulSoup(response.content, 'html.parser') \n",
        "\n",
        "    containers = content.find('span', {'data-test': 'instrument-price-last'}) \n",
        "\n",
        "    print(containers.text) \n",
        "\n",
        " \n",
        "\n",
        "get_exchange_rate('usd', 'krw') "
      ],
      "metadata": {
        "colab": {
          "base_uri": "https://localhost:8080/"
        },
        "id": "HjaG25iU_vXD",
        "outputId": "9aa3c6c8-f01d-41a1-a877-cdbdd2fcdf4d"
      },
      "execution_count": null,
      "outputs": [
        {
          "output_type": "stream",
          "name": "stdout",
          "text": [
            "1,425.55\n"
          ]
        }
      ]
    },
    {
      "cell_type": "code",
      "source": [],
      "metadata": {
        "id": "eQm-4shp__FL"
      },
      "execution_count": null,
      "outputs": []
    }
  ]
}